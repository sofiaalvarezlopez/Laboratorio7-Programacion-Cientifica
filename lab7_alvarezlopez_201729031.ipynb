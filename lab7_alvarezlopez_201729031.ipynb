{
 "cells": [
  {
   "cell_type": "markdown",
   "id": "bf1a6ac0",
   "metadata": {},
   "source": [
    "<h2>María Sofía Álvarez López</h2>"
   ]
  },
  {
   "cell_type": "code",
   "execution_count": 1,
   "id": "e37f6804",
   "metadata": {},
   "outputs": [],
   "source": [
    "# ESAI\n",
    "import numpy as np\n",
    "from sympy import *\n",
    "import pandas as pd\n",
    "import scipy.optimize as opt\n",
    "import matplotlib.pyplot as plt\n",
    "pd.set_option(\"display.precision\", 16)"
   ]
  },
  {
   "cell_type": "code",
   "execution_count": 2,
   "id": "8f093828",
   "metadata": {},
   "outputs": [],
   "source": [
    "%matplotlib inline"
   ]
  },
  {
   "cell_type": "markdown",
   "id": "a70a58fd",
   "metadata": {},
   "source": [
    "<h1 align='center'>Laboratorio 7 - Programación científica</h1>"
   ]
  },
  {
   "cell_type": "markdown",
   "id": "255decf8",
   "metadata": {},
   "source": [
    "## Punto 7"
   ]
  },
  {
   "cell_type": "markdown",
   "id": "0fcf2353",
   "metadata": {},
   "source": [
    "Primero, defino las funciones que usaré para el punto 7:"
   ]
  },
  {
   "cell_type": "code",
   "execution_count": 3,
   "id": "881dc578",
   "metadata": {},
   "outputs": [],
   "source": [
    "# Por biseccion\n",
    "''' Funcion que obtiene la raiz de una ecuacion no lineal de una variable usando el metodo de la biseccion.\n",
    "params: \n",
    "f: funcion no lineal a la cual se busca encontrar su raiz.\n",
    "intervalo: arreglo de numpy con el intervalo inicial en el cual se evaluara la funcion.\n",
    "tol_x: tolerancia en x. \n",
    "tol_y: tolerancia en y. Por defecto, tol_x = tol_y = 10**-5.\n",
    "n_max: numero maximo de iteraciones que le permito al algoritmo. Por defecto, n_max=1000.\n",
    "retorna: \n",
    "num_iter: numero de iteraciones\n",
    "x2: raiz final calculada\n",
    "xr_iter: valor estimado de la raiz en cada iteracion\n",
    "'''\n",
    "def biseccion(f, intervalo, tol_x=10**-5, tol_y=10**-5, n_max=1000):\n",
    "    num_iter = 0 # Inicializo una variable con el numero de iteraciones\n",
    "    xr_iter = np.array([]) #Defino un arreglo para ir guardando los valores de las raices candidatas, obtenidas en cada iteracion\n",
    "    x0, x1 = intervalo[0], intervalo[-1] #Obtengo los puntos inicial y final del intervalo que busco evaluar \n",
    "    x2_prev = x1 # Creo una variable inicial para la raiz en la iteracion anterior\n",
    "    while 1: # Inicio un proceso iterativo\n",
    "        num_iter += 1 # Se agrega una iteracion al numero total de iteraciones\n",
    "        x2 = (x0+x1)/2 # Obtengo la raiz candidata\n",
    "        xr_iter = np.append(xr_iter, x2) # Adiciono la raiz hallada al arreglo de raices obtenidas en cada iteracion\n",
    "        # Se evaluan los criterios de parada:\n",
    "        if np.abs(x2-x2_prev)<=tol_x: # Si la resta de las raiz anterior con la actual es menor que la tolerancia, termino el proceso\n",
    "            return num_iter, x2, xr_iter\n",
    "        if np.abs(f(x2))<=tol_y: # Si la funcion evaluada en la raiz actual es tan cercana a cero como la tolerancia lo pide, termino el proceso.\n",
    "            return num_iter, x2, xr_iter\n",
    "        # Reviso si las iteraciones que llevo estan por debajo del limite establecido.\n",
    "        if num_iter >= n_max:\n",
    "            print('Maximo numero de iteraciones')\n",
    "            return num_iter, x2, xr_iter\n",
    "        # Se actualiza el intervalo de acuerdo con la condicion\n",
    "        if f(x0)*f(x2) <= 0: # La raiz se encuentra en el intervalo [x0, x2].\n",
    "            x1 = x2\n",
    "        else: # La raiz se encuentra en el intervalo [x2, x1].\n",
    "            x0 = x2 \n",
    "        # Se actualiza x2 antiguo con el actual para la siguiente iteracion\n",
    "        x2_prev = x2\n",
    "\n",
    "''' Funcion que obtiene la raiz de una ecuacion no lineal de una variable usando el metodo de la falsa posicion.\n",
    "params: \n",
    "f: funcion no lineal a la cual se busca encontrar su raiz.\n",
    "intervalo: arreglo de numpy con el intervalo inicial en el cual se evaluara la funcion.\n",
    "tol_x: tolerancia en x. \n",
    "tol_y: tolerancia en y. Por defecto, tol_x = tol_y = 10**-5.\n",
    "n_max: numero maximo de iteraciones que le permito al algoritmo. Por defecto, n_max=1000.\n",
    "retorna: \n",
    "num_iter: numero de iteraciones\n",
    "x2: raiz final calculada\n",
    "xr_iter: valor estimado de la raiz en cada iteracion\n",
    "'''\n",
    "def falsa_posicion(f, intervalo, tol_x=10**-5, tol_y=10**-5, n_max=1000):\n",
    "    num_iter = 0 # Inicializo una variable con el numero de iteraciones\n",
    "    xr_iter = np.array([]) #Defino un arreglo para ir guardando los valores de las raíces candidatas, obtenidas en cada iteracion\n",
    "    x0, x1 = intervalo[0], intervalo[-1] #Obtengo los puntos inicial y final del intervalo que busco evaluar \n",
    "    x2_prev = x1 # Creo una variable inicial para la raíz en la iteración anterior\n",
    "    while 1: # Inicio un proceso iterativo\n",
    "        num_iter += 1 # Se agrega una iteracion al numero total de iteraciones\n",
    "        x2 = x1 - ((f(x1)*(x1-x0))/(f(x1)-f(x0))) # Se obtiene la raiz candidata\n",
    "        xr_iter = np.append(xr_iter, x2) # Aniado la raiz al arreglo\n",
    "        # Se evaluan los criterios de parada:\n",
    "        if np.abs(x2-x2_prev)<=tol_x: # Si la resta de las raiz anterior con la actual es menor que la tolerancia, termino el proceso\n",
    "            return num_iter, x2, xr_iter\n",
    "        if np.abs(f(x2))<=tol_y: # Si la funcion evaluada en la raiz actual es tan cercana a cero como la tolerancia lo pide, termino el proceso.\n",
    "            return num_iter, x2, xr_iter\n",
    "        # Reviso si las iteraciones que llevo estan por debajo del limite establecido.\n",
    "        if num_iter >= n_max:\n",
    "            print('Maximo numero de iteraciones')\n",
    "            return num_iter, x2, xr_iter\n",
    "        # Se actualiza el intervalo de acuerdo con la condicion\n",
    "        if f(x0)*f(x2) <= 0: # La raiz se encuentra en el intervalo [x0, x2].\n",
    "            x1 = x2\n",
    "        else: # La raiz se encuentra en el intervalo [x2, x1].\n",
    "            x0 = x2 \n",
    "        # Se actualiza x2 antiguo con el actual para la siguiente iteracion\n",
    "        x2_prev = x2\n",
    "\n",
    "'''\n",
    "Funcion que calcula la derivada de una funcion f.\n",
    "params:\n",
    "f: funcion a calcular su derivada\n",
    "retorna:\n",
    "num_iter: numero de iteraciones\n",
    "x2: raiz final calculada\n",
    "xr_iter: valor estimado de la raiz en cada iteracion'''\n",
    "def derivative(f):\n",
    "    x = Symbol('x')\n",
    "    y_prima = f.diff(Symbol('x'))\n",
    "    return lambdify(x, y_prima, 'numpy')\n",
    "\n",
    "# Ahora si defino el metodo de Newton\n",
    "''' Funcion que obtiene la raiz de una ecuacion no lineal de una variable usando el metodo de Newton.\n",
    "params: \n",
    "f: funcion no lineal a la cual se busca encontrar su raiz.\n",
    "f_sympy: Representacion de la funcion f usando sympy.\n",
    "x1: punto inicial.\n",
    "tol_x: tolerancia en x. \n",
    "tol_y: tolerancia en y. Por defecto, tol_x = tol_y = 10**-5.\n",
    "n_max: numero maximo de iteraciones que le permito al algoritmo. Por defecto, n_max=1000.\n",
    "retorna: \n",
    "num_iter: numero de iteraciones\n",
    "x2: raiz final calculada\n",
    "xr_iter: valor estimado de la raiz en cada iteracion\n",
    "'''\n",
    "def newton(f, f_sympy, x1, tol_x=10**-5, tol_y=10**-5, n_max=1000):\n",
    "    num_iter = 0 # Inicializo una variable con el numero de iteraciones\n",
    "    xr_iter = np.array([]) #Defino un arreglo para ir guardando los valores de las raices candidatas, obtenidas en cada iteracion\n",
    "    x2_prev = x1 # Creo una variable inicial para la raiz en la iteracion anterior\n",
    "    while 1: # Inicio un proceso iterativo\n",
    "        num_iter += 1 # Se agrega una iteracion al numero total de iteraciones\n",
    "        df = derivative(f_sympy)\n",
    "        x2 = x1 - (f(x1)/df(x1)) # Se obtiene la raiz candidata\n",
    "        xr_iter = np.append(xr_iter, x2) # Aniadimos la raiz al arreglo\n",
    "        # Se evaluan los criterios de parada:\n",
    "        if np.abs(x2-x2_prev)<=tol_x: # Si la resta de las raiz anterior con la actual es menor que la tolerancia, termino el proceso\n",
    "            return num_iter, x2, xr_iter\n",
    "        if np.abs(f(x2))<=tol_y: # Si la funcion evaluada en la raiz actual es tan cercana a cero como la tolerancia lo pide, termino el proceso.\n",
    "            return num_iter, x2, xr_iter\n",
    "        # Reviso si las iteraciones que llevo estan por debajo del limite establecido.\n",
    "        if num_iter >= n_max:\n",
    "            print('Maximo numero de iteraciones')\n",
    "            return num_iter, x2, xr_iter\n",
    "        # Se actualiza el intervalo de acuerdo con la condicion\n",
    "        x1 = x2\n",
    "        # Se actualiza x2 antiguo con el actual para la siguiente iteracion\n",
    "        x2_prev = x2\n",
    "\n",
    "''' Funcion que obtiene la raiz de una ecuacion no lineal de una variable usando el metodo de la secante.\n",
    "params: \n",
    "f: funcion no lineal a la cual se busca encontrar su raiz.\n",
    "x0, x1: puntos iniciales sobre los cuales inicia el metodo.\n",
    "tol_x: tolerancia en x. \n",
    "tol_y: tolerancia en y. Por defecto, tol_x = tol_y = 10**-5.\n",
    "n_max: numero maximo de iteraciones que le permito al algoritmo. Por defecto, n_max=1000.\n",
    "retorna: \n",
    "num_iter: numero de iteraciones\n",
    "x2: raiz final calculada\n",
    "xr_iter: valor estimado de la raiz en cada iteracion\n",
    "'''\n",
    "def secante(f, x0, x1,tol_x=10**-5, tol_y=10**-5, n_max=1000):\n",
    "    num_iter = 0 # Inicializo una variable con el numero de iteraciones\n",
    "    xr_iter = np.array([]) #Defino un arreglo para ir guardando los valores de las raices candidatas, obtenidas en cada iteracion\n",
    "    x2_prev = x1 # Creo una variable inicial para la raiz en la iteración anterior\n",
    "    while 1: # Inicio un proceso iterativo\n",
    "        num_iter += 1 # Se agrega una iteracion al numero total de iteraciones\n",
    "        x2 = x1 - ((f(x1)*(x1-x0))/(f(x1)-f(x0))) # Se obtiene la raiz candidata\n",
    "        xr_iter = np.append(xr_iter, x2) # Aniado la raiz al arreglo\n",
    "        # Se evaluan los criterios de parada:\n",
    "        if np.abs(x2-x2_prev)<=tol_x: # Si la resta de las raiz anterior con la actual es menor que la tolerancia, termino el proceso\n",
    "            return num_iter, x2, xr_iter\n",
    "        if np.abs(f(x2))<=tol_y: # Si la funcion evaluada en la raiz actual es tan cercana a cero como la tolerancia lo pide, termino el proceso.\n",
    "            return num_iter, x2, xr_iter\n",
    "        # Reviso si las iteraciones que llevo estan por debajo del limite establecido.\n",
    "        if num_iter >= n_max:\n",
    "            print('Maximo numero de iteraciones')\n",
    "            return num_iter, x2, xr_iter\n",
    "        # Se actualiza el intervalo de acuerdo con la condicion\n",
    "        x0, x1 = x1, x2\n",
    "        # Se actualiza x2 antiguo con el actual para la siguiente iteracion\n",
    "        x2_prev = x2"
   ]
  },
  {
   "cell_type": "markdown",
   "id": "db10ee37",
   "metadata": {},
   "source": [
    "Defino las funciones que usaré en el punto 7:"
   ]
  },
  {
   "cell_type": "markdown",
   "id": "d27a6266",
   "metadata": {},
   "source": [
    "### Función 1:\n",
    "$$e^{-10x^3} - \\sqrt{x} + \\cos{10x} = - 1 \\longrightarrow f(x) = e^{-10x^3} - \\sqrt{x} + \\cos{10x} + 1. $$\n",
    "Primero, defino la función:"
   ]
  },
  {
   "cell_type": "code",
   "execution_count": 4,
   "id": "a1a79404",
   "metadata": {},
   "outputs": [],
   "source": [
    "def f1(x):\n",
    "    return np.exp(-10*(x)**3)-np.sqrt(x)+np.cos(10*x)+1"
   ]
  },
  {
   "cell_type": "markdown",
   "id": "56c7e3a0",
   "metadata": {},
   "source": [
    "Ahora, la grafico en el rango dado:"
   ]
  },
  {
   "cell_type": "code",
   "execution_count": 5,
   "id": "af2eb237",
   "metadata": {},
   "outputs": [],
   "source": [
    "x = np.arange(0.7,0.9,0.0001)"
   ]
  },
  {
   "cell_type": "code",
   "execution_count": 6,
   "id": "f4eef8f3",
   "metadata": {},
   "outputs": [
    {
     "data": {
      "image/png": "[encoded data removed]",
      "text/plain": [
       "<Figure size 432x288 with 1 Axes>"
      ]
     },
     "metadata": {
      "needs_background": "light"
     },
     "output_type": "display_data"
    }
   ],
   "source": [
    "plt.plot(x, f1(x),c='lightpink')\n",
    "plt.grid(1)\n",
    "plt.xlabel(r'$x$')\n",
    "plt.ylabel(r'$y$')\n",
    "plt.title(r'$f(x) = e^{-10x^3} - \\sqrt{x} + \\cos{10x} + 1$')\n",
    "plt.show()"
   ]
  },
  {
   "cell_type": "markdown",
   "id": "d6d321ed",
   "metadata": {},
   "source": [
    "La función tiene una raíz en el intervalo deseado. Ahora, uso las funciones que definí en el archivo de Python para calcular la raíz. Las que pongo aquí son exactamente las mismas que definí en el archivo. Como la tolerancia ya está definida en $10^{-5}$ por defecto, no llamo a este parámetro."
   ]
  },
  {
   "cell_type": "code",
   "execution_count": 7,
   "id": "aded6c06",
   "metadata": {},
   "outputs": [],
   "source": [
    "# 1. Biseccion\n",
    "num_iter_biseccion_f1, x2_biseccion_f1, xr_iter_biseccion_f1 = biseccion(f1, intervalo=x)\n",
    "# 2. Falsa posicion\n",
    "num_iter_falsa_posicion_f1, x2_falsa_posicion_f1, xr_iter_falsa_posicion_f1 = falsa_posicion(f1, intervalo=x)\n",
    "# 3. Newton\n",
    "# 3.1. Defino la funcion f1 usando sympy\n",
    "f1_sympy = exp(-10*(Symbol('x')**3)) - sqrt(Symbol('x')) + cos(10*Symbol('x')) + 1\n",
    "# 3.2. Llamo al metodo\n",
    "num_iter_newton_f1, x2_newton_f1, xr_iter_newton_f1 = newton(f1, f1_sympy, x1=0.9)\n",
    "# 4. Secante\n",
    "num_iter_secante_f1, x2_secante_f1, xr_iter_secante_f1 = secante(f1, x0=0.85, x1=0.9)"
   ]
  },
  {
   "cell_type": "markdown",
   "id": "38fa755d",
   "metadata": {},
   "source": [
    "### Función 2:\n",
    "$$ \\sin{(4x)} + x^{3/2} + x^2 = 4 - \\frac{2}{3}x \\longrightarrow f(x) = \\sin{(4x)} + x^{3/2} + x^2 - 4 + \\frac{2}{3}x. $$\n",
    "Primero, defino la función:"
   ]
  },
  {
   "cell_type": "code",
   "execution_count": 8,
   "id": "47dca4b6",
   "metadata": {},
   "outputs": [],
   "source": [
    "def f2(x):\n",
    "    return np.sin(4*x) + x**(3/2) + x**2 + (2/3)*x - 4"
   ]
  },
  {
   "cell_type": "markdown",
   "id": "afd65718",
   "metadata": {},
   "source": [
    "Ahora, la grafico en el rango dado:"
   ]
  },
  {
   "cell_type": "code",
   "execution_count": 9,
   "id": "ab6b39c7",
   "metadata": {},
   "outputs": [],
   "source": [
    "x = np.arange(1, 4, 0.0001)"
   ]
  },
  {
   "cell_type": "code",
   "execution_count": 10,
   "id": "a959ee41",
   "metadata": {},
   "outputs": [
    {
     "data": {
      "image/png": "[encoded data removed]",
      "text/plain": [
       "<Figure size 432x288 with 1 Axes>"
      ]
     },
     "metadata": {
      "needs_background": "light"
     },
     "output_type": "display_data"
    }
   ],
   "source": [
    "plt.plot(x, f2(x),c='turquoise')\n",
    "plt.grid(1)\n",
    "plt.xlabel(r'$x$')\n",
    "plt.ylabel(r'$y$')\n",
    "plt.title(r'$f(x) =\\sin{(4x)} + x^{3/2} + x^2 - 4 + \\frac{2}{3}x$')\n",
    "plt.show()"
   ]
  },
  {
   "cell_type": "markdown",
   "id": "6a8a4356",
   "metadata": {},
   "source": [
    "La función tiene una raíz en el intervalo deseado. Ahora, uso las funciones que definí en el archivo de Python para calcular la raíz. Las que pongo aquí son exactamente las mismas que definí en el archivo. Como la tolerancia ya está definida en $10^{-5}$ por defecto, no llamo a este parámetro."
   ]
  },
  {
   "cell_type": "code",
   "execution_count": 11,
   "id": "fc348305",
   "metadata": {},
   "outputs": [],
   "source": [
    "# 1. Biseccion\n",
    "num_iter_biseccion_f2, x2_biseccion_f2, xr_iter_biseccion_f2 = biseccion(f2, intervalo=x)\n",
    "# 2. Falsa posicion\n",
    "num_iter_falsa_posicion_f2, x2_falsa_posicion_f2, xr_iter_falsa_posicion_f2 = falsa_posicion(f2, intervalo=x)\n",
    "# 3. Newton\n",
    "# 3.1. Defino la funcion f2 usando sympy\n",
    "f2_sympy = sin(4*Symbol('x')) + Symbol('x')**(3/2) + Symbol('x')**2 + (2/3)* Symbol('x') - 4\n",
    "# 3.2. Llamo al metodo\n",
    "num_iter_newton_f2, x2_newton_f2, xr_iter_newton_f2 = newton(f2, f2_sympy, x1=3.5)\n",
    "# 4. Secante\n",
    "num_iter_secante_f2, x2_secante_f2, xr_iter_secante_f2 = secante(f2, x0=3.45, x1=3.5)"
   ]
  },
  {
   "cell_type": "markdown",
   "id": "1fee818a",
   "metadata": {},
   "source": [
    "### Función 3:\n",
    "$$ 6.67h = -3.65\\ln{\\left(\\frac{x}{5.33}\\right)} + \\sqrt{2}e^{-c^2 -4.25} + 10.54\\cos{(x-2.2)}, \\;\\; h=c=\\pi/2  \\longrightarrow$$\n",
    "\n",
    "$$ f(x) = -3.65\\ln{\\left(\\frac{x}{5.33}\\right)} + \\sqrt{2}e^{-c^2 -4.25} + 10.54\\cos{(x-2.2)} - 6.67h, \\;\\; h=c=\\pi/2. $$\n",
    "\n",
    "Primero, defino la función:"
   ]
  },
  {
   "cell_type": "code",
   "execution_count": 12,
   "id": "3e282bb1",
   "metadata": {},
   "outputs": [],
   "source": [
    "def f3(x, c=np.pi/2, h=np.pi/2):\n",
    "    return -3.65*np.log(x/5.33) + np.sqrt(2)*np.exp(-(c**2)-4.25) + 10.54*np.cos(x-2.2) - 6.67*h"
   ]
  },
  {
   "cell_type": "markdown",
   "id": "8076a129",
   "metadata": {},
   "source": [
    "Ahora, la grafico en el rango dado:"
   ]
  },
  {
   "cell_type": "code",
   "execution_count": 13,
   "id": "0ea5aa20",
   "metadata": {},
   "outputs": [],
   "source": [
    "x = np.arange(2, 4, 0.0001)"
   ]
  },
  {
   "cell_type": "code",
   "execution_count": 14,
   "id": "96208670",
   "metadata": {},
   "outputs": [
    {
     "data": {
      "image/png": "[encoded data removed]",
      "text/plain": [
       "<Figure size 432x288 with 1 Axes>"
      ]
     },
     "metadata": {
      "needs_background": "light"
     },
     "output_type": "display_data"
    }
   ],
   "source": [
    "plt.plot(x, f3(x),c='limegreen')\n",
    "plt.grid(1)\n",
    "plt.xlabel(r'$x$')\n",
    "plt.ylabel(r'$y$')\n",
    "plt.title(r'$f(x) =-3.65\\ln{\\left(\\frac{x}{5.33}\\right)} + \\sqrt{2}e^{-c^2 -4.25} + 10.54\\cos{(x-2.2)} - 6.67h$')\n",
    "plt.show()"
   ]
  },
  {
   "cell_type": "markdown",
   "id": "365e0594",
   "metadata": {},
   "source": [
    "La función tiene una raíz en el intervalo deseado. Ahora, uso las funciones que definí en el archivo de Python para calcular la raíz. Las que pongo aquí son exactamente las mismas que definí en el archivo. Como la tolerancia ya está definida en $10^{-5}$ por defecto, no llamo a este parámetro."
   ]
  },
  {
   "cell_type": "code",
   "execution_count": 15,
   "id": "cb137b89",
   "metadata": {},
   "outputs": [],
   "source": [
    "# 1. Biseccion\n",
    "num_iter_biseccion_f3, x2_biseccion_f3, xr_iter_biseccion_f3 = biseccion(f3, intervalo=x)\n",
    "# 2. Falsa posicion\n",
    "num_iter_falsa_posicion_f3, x2_falsa_posicion_f3, xr_iter_falsa_posicion_f3 = falsa_posicion(f3, intervalo=x)\n",
    "# 3. Newton\n",
    "# 3.1. Defino la funcion f3 usando sympy\n",
    "c = h = np.pi/2\n",
    "f3_sympy = -3.65*ln(Symbol('x')/5.33) + sqrt(2)*exp(-(c**2)-4.25) + 10.54*cos(Symbol('x')-2.2) -6.6*h\n",
    "# 3.2. Llamo al metodo\n",
    "num_iter_newton_f3, x2_newton_f3, xr_iter_newton_f3 = newton(f3, f3_sympy, x1=4)\n",
    "# 4. Secante\n",
    "num_iter_secante_f3, x2_secante_f3, xr_iter_secante_f3 = secante(f3, x0=3.95, x1=4)"
   ]
  },
  {
   "cell_type": "markdown",
   "id": "8dab80ae",
   "metadata": {},
   "source": [
    "Con esto, completo la tabla. Para la función 1:"
   ]
  },
  {
   "cell_type": "code",
   "execution_count": 16,
   "id": "13b668f9",
   "metadata": {},
   "outputs": [
    {
     "data": {
      "text/html": [
       "<div>\n",
       "<style scoped>\n",
       "    .dataframe tbody tr th:only-of-type {\n",
       "        vertical-align: middle;\n",
       "    }\n",
       "\n",
       "    .dataframe tbody tr th {\n",
       "        vertical-align: top;\n",
       "    }\n",
       "\n",
       "    .dataframe thead th {\n",
       "        text-align: right;\n",
       "    }\n",
       "</style>\n",
       "<table border=\"1\" class=\"dataframe\">\n",
       "  <thead>\n",
       "    <tr style=\"text-align: right;\">\n",
       "      <th></th>\n",
       "      <th></th>\n",
       "      <th>Intervalo o punto inicial</th>\n",
       "      <th>Número total de iteraciones</th>\n",
       "      <th>Raíz $x_r$</th>\n",
       "      <th>$f(x_r)$</th>\n",
       "    </tr>\n",
       "    <tr>\n",
       "      <th>Función</th>\n",
       "      <th>Método</th>\n",
       "      <th></th>\n",
       "      <th></th>\n",
       "      <th></th>\n",
       "      <th></th>\n",
       "    </tr>\n",
       "  </thead>\n",
       "  <tbody>\n",
       "    <tr>\n",
       "      <th rowspan=\"4\" valign=\"top\">Función 1</th>\n",
       "      <th>Bisección</th>\n",
       "      <td>[0.7, 0.9]</td>\n",
       "      <td>15</td>\n",
       "      <td>0.7967956542968643</td>\n",
       "      <td>-0.0000087480834761</td>\n",
       "    </tr>\n",
       "    <tr>\n",
       "      <th>Falsa Posición</th>\n",
       "      <td>[0.7, 0.9]</td>\n",
       "      <td>4</td>\n",
       "      <td>0.7967948315576083</td>\n",
       "      <td>-0.0000000136534783</td>\n",
       "    </tr>\n",
       "    <tr>\n",
       "      <th>Newton</th>\n",
       "      <td>0.9</td>\n",
       "      <td>4</td>\n",
       "      <td>0.7967948029113932</td>\n",
       "      <td>0.0000002904629196</td>\n",
       "    </tr>\n",
       "    <tr>\n",
       "      <th>Secante</th>\n",
       "      <td>0.85, 0.9</td>\n",
       "      <td>4</td>\n",
       "      <td>0.7967946551724332</td>\n",
       "      <td>0.0000018589020722</td>\n",
       "    </tr>\n",
       "  </tbody>\n",
       "</table>\n",
       "</div>"
      ],
      "text/plain": [
       "                         Intervalo o punto inicial  \\\n",
       "Función   Método                                     \n",
       "Función 1 Bisección                     [0.7, 0.9]   \n",
       "          Falsa Posición                [0.7, 0.9]   \n",
       "          Newton                               0.9   \n",
       "          Secante                        0.85, 0.9   \n",
       "\n",
       "                          Número total de iteraciones          Raíz $x_r$  \\\n",
       "Función   Método                                                            \n",
       "Función 1 Bisección                                15  0.7967956542968643   \n",
       "          Falsa Posición                            4  0.7967948315576083   \n",
       "          Newton                                    4  0.7967948029113932   \n",
       "          Secante                                   4  0.7967946551724332   \n",
       "\n",
       "                                    $f(x_r)$  \n",
       "Función   Método                              \n",
       "Función 1 Bisección      -0.0000087480834761  \n",
       "          Falsa Posición -0.0000000136534783  \n",
       "          Newton          0.0000002904629196  \n",
       "          Secante         0.0000018589020722  "
      ]
     },
     "execution_count": 16,
     "metadata": {},
     "output_type": "execute_result"
    }
   ],
   "source": [
    "data_f1 =  {'Función': ['Función 1']*4,\n",
    "            'Método': ['Bisección', 'Falsa Posición', 'Newton', 'Secante'], \n",
    "            'Intervalo o punto inicial': [\"[0.7, 0.9]\", \"[0.7, 0.9]\", \"0.9\", \"0.85, 0.9\"],\n",
    "            'Número total de iteraciones': [num_iter_biseccion_f1, num_iter_falsa_posicion_f1, num_iter_newton_f1, num_iter_secante_f1],\n",
    "            r'Raíz $x_r$': [x2_biseccion_f1, x2_falsa_posicion_f1, x2_newton_f1, x2_secante_f1],\n",
    "            r'$f(x_r)$': [f1(x2_biseccion_f1), f1(x2_falsa_posicion_f1), f1(x2_newton_f1), f1(x2_secante_f1)]}\n",
    "df1 = pd.DataFrame(data_f1)\n",
    "df1.set_index(['Función', 'Método'], inplace=True)\n",
    "df1"
   ]
  },
  {
   "cell_type": "markdown",
   "id": "8d7ed6a1",
   "metadata": {},
   "source": [
    "Con esto, completo la tabla. Para la función 2:"
   ]
  },
  {
   "cell_type": "code",
   "execution_count": 17,
   "id": "ab429526",
   "metadata": {},
   "outputs": [
    {
     "data": {
      "text/html": [
       "<div>\n",
       "<style scoped>\n",
       "    .dataframe tbody tr th:only-of-type {\n",
       "        vertical-align: middle;\n",
       "    }\n",
       "\n",
       "    .dataframe tbody tr th {\n",
       "        vertical-align: top;\n",
       "    }\n",
       "\n",
       "    .dataframe thead th {\n",
       "        text-align: right;\n",
       "    }\n",
       "</style>\n",
       "<table border=\"1\" class=\"dataframe\">\n",
       "  <thead>\n",
       "    <tr style=\"text-align: right;\">\n",
       "      <th></th>\n",
       "      <th></th>\n",
       "      <th>Intervalo o punto inicial</th>\n",
       "      <th>Número total de iteraciones</th>\n",
       "      <th>Raíz $x_r$</th>\n",
       "      <th>$f(x_r)$</th>\n",
       "    </tr>\n",
       "    <tr>\n",
       "      <th>Función</th>\n",
       "      <th>Método</th>\n",
       "      <th></th>\n",
       "      <th></th>\n",
       "      <th></th>\n",
       "      <th></th>\n",
       "    </tr>\n",
       "  </thead>\n",
       "  <tbody>\n",
       "    <tr>\n",
       "      <th rowspan=\"4\" valign=\"top\">Función 2</th>\n",
       "      <th>Bisección</th>\n",
       "      <td>[1.0, 4.0]</td>\n",
       "      <td>19</td>\n",
       "      <td>1.4096905515670328</td>\n",
       "      <td>0.0000149036847388</td>\n",
       "    </tr>\n",
       "    <tr>\n",
       "      <th>Falsa Posición</th>\n",
       "      <td>[1.0, 4.0]</td>\n",
       "      <td>5</td>\n",
       "      <td>1.4096884628486834</td>\n",
       "      <td>-0.0000027768496631</td>\n",
       "    </tr>\n",
       "    <tr>\n",
       "      <th>Newton</th>\n",
       "      <td>3.5</td>\n",
       "      <td>5</td>\n",
       "      <td>1.4096887909626317</td>\n",
       "      <td>0.0000000005581029</td>\n",
       "    </tr>\n",
       "    <tr>\n",
       "      <th>Secante</th>\n",
       "      <td>3.45, 3.5</td>\n",
       "      <td>5</td>\n",
       "      <td>1.4096886522562191</td>\n",
       "      <td>-0.0000011735593715</td>\n",
       "    </tr>\n",
       "  </tbody>\n",
       "</table>\n",
       "</div>"
      ],
      "text/plain": [
       "                         Intervalo o punto inicial  \\\n",
       "Función   Método                                     \n",
       "Función 2 Bisección                     [1.0, 4.0]   \n",
       "          Falsa Posición                [1.0, 4.0]   \n",
       "          Newton                               3.5   \n",
       "          Secante                        3.45, 3.5   \n",
       "\n",
       "                          Número total de iteraciones          Raíz $x_r$  \\\n",
       "Función   Método                                                            \n",
       "Función 2 Bisección                                19  1.4096905515670328   \n",
       "          Falsa Posición                            5  1.4096884628486834   \n",
       "          Newton                                    5  1.4096887909626317   \n",
       "          Secante                                   5  1.4096886522562191   \n",
       "\n",
       "                                    $f(x_r)$  \n",
       "Función   Método                              \n",
       "Función 2 Bisección       0.0000149036847388  \n",
       "          Falsa Posición -0.0000027768496631  \n",
       "          Newton          0.0000000005581029  \n",
       "          Secante        -0.0000011735593715  "
      ]
     },
     "execution_count": 17,
     "metadata": {},
     "output_type": "execute_result"
    }
   ],
   "source": [
    "data_f2 =  {'Función': ['Función 2']*4,\n",
    "            'Método': ['Bisección', 'Falsa Posición', 'Newton', 'Secante'], \n",
    "            'Intervalo o punto inicial': [\"[1.0, 4.0]\", \"[1.0, 4.0]\", \"3.5\", \"3.45, 3.5\"],\n",
    "            'Número total de iteraciones': [num_iter_biseccion_f2, num_iter_falsa_posicion_f2, num_iter_newton_f2, num_iter_secante_f2],\n",
    "            r'Raíz $x_r$': [x2_biseccion_f2, x2_falsa_posicion_f2, x2_newton_f2, x2_secante_f2],\n",
    "            r'$f(x_r)$': [f2(x2_biseccion_f2), f2(x2_falsa_posicion_f2), f2(x2_newton_f2), f2(x2_secante_f2)]}\n",
    "\n",
    "df2 = pd.DataFrame(data_f2)\n",
    "df2.set_index(['Función', 'Método'], inplace=True)\n",
    "df2"
   ]
  },
  {
   "cell_type": "markdown",
   "id": "07a36c75",
   "metadata": {},
   "source": [
    "Con esto, completo la tabla. Para la función 3:"
   ]
  },
  {
   "cell_type": "code",
   "execution_count": 18,
   "id": "de8732f7",
   "metadata": {},
   "outputs": [
    {
     "data": {
      "text/html": [
       "<div>\n",
       "<style scoped>\n",
       "    .dataframe tbody tr th:only-of-type {\n",
       "        vertical-align: middle;\n",
       "    }\n",
       "\n",
       "    .dataframe tbody tr th {\n",
       "        vertical-align: top;\n",
       "    }\n",
       "\n",
       "    .dataframe thead th {\n",
       "        text-align: right;\n",
       "    }\n",
       "</style>\n",
       "<table border=\"1\" class=\"dataframe\">\n",
       "  <thead>\n",
       "    <tr style=\"text-align: right;\">\n",
       "      <th></th>\n",
       "      <th></th>\n",
       "      <th>Intervalo o punto inicial</th>\n",
       "      <th>Número total de iteraciones</th>\n",
       "      <th>Raíz $x_r$</th>\n",
       "      <th>$f(x_r)$</th>\n",
       "    </tr>\n",
       "    <tr>\n",
       "      <th>Función</th>\n",
       "      <th>Método</th>\n",
       "      <th></th>\n",
       "      <th></th>\n",
       "      <th></th>\n",
       "      <th></th>\n",
       "    </tr>\n",
       "  </thead>\n",
       "  <tbody>\n",
       "    <tr>\n",
       "      <th rowspan=\"4\" valign=\"top\">Función 3</th>\n",
       "      <th>Bisección</th>\n",
       "      <td>[2.0, 4.0]</td>\n",
       "      <td>18</td>\n",
       "      <td>2.8758030704516777</td>\n",
       "      <td>-0.0000211517116107</td>\n",
       "    </tr>\n",
       "    <tr>\n",
       "      <th>Falsa Posición</th>\n",
       "      <td>[2.0, 4.0]</td>\n",
       "      <td>10</td>\n",
       "      <td>2.8757975029828353</td>\n",
       "      <td>0.0000226209132261</td>\n",
       "    </tr>\n",
       "    <tr>\n",
       "      <th>Newton</th>\n",
       "      <td>4.0</td>\n",
       "      <td>4</td>\n",
       "      <td>2.8758003801572869</td>\n",
       "      <td>-0.0000000000144773</td>\n",
       "    </tr>\n",
       "    <tr>\n",
       "      <th>Secante</th>\n",
       "      <td>3.95, 4.0</td>\n",
       "      <td>5</td>\n",
       "      <td>2.8758003815241771</td>\n",
       "      <td>-0.0000000107612603</td>\n",
       "    </tr>\n",
       "  </tbody>\n",
       "</table>\n",
       "</div>"
      ],
      "text/plain": [
       "                         Intervalo o punto inicial  \\\n",
       "Función   Método                                     \n",
       "Función 3 Bisección                     [2.0, 4.0]   \n",
       "          Falsa Posición                [2.0, 4.0]   \n",
       "          Newton                               4.0   \n",
       "          Secante                        3.95, 4.0   \n",
       "\n",
       "                          Número total de iteraciones          Raíz $x_r$  \\\n",
       "Función   Método                                                            \n",
       "Función 3 Bisección                                18  2.8758030704516777   \n",
       "          Falsa Posición                           10  2.8757975029828353   \n",
       "          Newton                                    4  2.8758003801572869   \n",
       "          Secante                                   5  2.8758003815241771   \n",
       "\n",
       "                                    $f(x_r)$  \n",
       "Función   Método                              \n",
       "Función 3 Bisección      -0.0000211517116107  \n",
       "          Falsa Posición  0.0000226209132261  \n",
       "          Newton         -0.0000000000144773  \n",
       "          Secante        -0.0000000107612603  "
      ]
     },
     "execution_count": 18,
     "metadata": {},
     "output_type": "execute_result"
    }
   ],
   "source": [
    "data_f3 =  {'Función': ['Función 3']*4,\n",
    "            'Método': ['Bisección', 'Falsa Posición', 'Newton', 'Secante'], \n",
    "            'Intervalo o punto inicial': [\"[2.0, 4.0]\", \"[2.0, 4.0]\", \"4.0\", \"3.95, 4.0\"],\n",
    "            'Número total de iteraciones': [num_iter_biseccion_f3, num_iter_falsa_posicion_f3, num_iter_newton_f3, num_iter_secante_f3],\n",
    "            r'Raíz $x_r$': [x2_biseccion_f3, x2_falsa_posicion_f3, x2_newton_f3, x2_secante_f3],\n",
    "            r'$f(x_r)$': [f3(x2_biseccion_f3), f3(x2_falsa_posicion_f3), f3(x2_newton_f3), f3(x2_secante_f3)]}\n",
    "\n",
    "df3 = pd.DataFrame(data_f3)\n",
    "df3.set_index(['Función', 'Método'], inplace=True)\n",
    "df3"
   ]
  },
  {
   "cell_type": "markdown",
   "id": "a436dce8",
   "metadata": {},
   "source": [
    "La tabla consolidada con los 4 métodos para las 3 funciones se encuentra a continuación:"
   ]
  },
  {
   "cell_type": "code",
   "execution_count": 19,
   "id": "456d342d",
   "metadata": {},
   "outputs": [
    {
     "data": {
      "text/html": [
       "<div>\n",
       "<style scoped>\n",
       "    .dataframe tbody tr th:only-of-type {\n",
       "        vertical-align: middle;\n",
       "    }\n",
       "\n",
       "    .dataframe tbody tr th {\n",
       "        vertical-align: top;\n",
       "    }\n",
       "\n",
       "    .dataframe thead th {\n",
       "        text-align: right;\n",
       "    }\n",
       "</style>\n",
       "<table border=\"1\" class=\"dataframe\">\n",
       "  <thead>\n",
       "    <tr style=\"text-align: right;\">\n",
       "      <th></th>\n",
       "      <th></th>\n",
       "      <th>Intervalo o punto inicial</th>\n",
       "      <th>Número total de iteraciones</th>\n",
       "      <th>Raíz $x_r$</th>\n",
       "      <th>$f(x_r)$</th>\n",
       "    </tr>\n",
       "    <tr>\n",
       "      <th>Función</th>\n",
       "      <th>Método</th>\n",
       "      <th></th>\n",
       "      <th></th>\n",
       "      <th></th>\n",
       "      <th></th>\n",
       "    </tr>\n",
       "  </thead>\n",
       "  <tbody>\n",
       "    <tr>\n",
       "      <th rowspan=\"4\" valign=\"top\">Función 1</th>\n",
       "      <th>Bisección</th>\n",
       "      <td>[0.7, 0.9]</td>\n",
       "      <td>15</td>\n",
       "      <td>0.7967956542968643</td>\n",
       "      <td>-0.0000087480834761</td>\n",
       "    </tr>\n",
       "    <tr>\n",
       "      <th>Falsa Posición</th>\n",
       "      <td>[0.7, 0.9]</td>\n",
       "      <td>4</td>\n",
       "      <td>0.7967948315576083</td>\n",
       "      <td>-0.0000000136534783</td>\n",
       "    </tr>\n",
       "    <tr>\n",
       "      <th>Newton</th>\n",
       "      <td>0.9</td>\n",
       "      <td>4</td>\n",
       "      <td>0.7967948029113932</td>\n",
       "      <td>0.0000002904629196</td>\n",
       "    </tr>\n",
       "    <tr>\n",
       "      <th>Secante</th>\n",
       "      <td>0.85, 0.9</td>\n",
       "      <td>4</td>\n",
       "      <td>0.7967946551724332</td>\n",
       "      <td>0.0000018589020722</td>\n",
       "    </tr>\n",
       "    <tr>\n",
       "      <th rowspan=\"4\" valign=\"top\">Función 2</th>\n",
       "      <th>Bisección</th>\n",
       "      <td>[1.0, 4.0]</td>\n",
       "      <td>19</td>\n",
       "      <td>1.4096905515670328</td>\n",
       "      <td>0.0000149036847388</td>\n",
       "    </tr>\n",
       "    <tr>\n",
       "      <th>Falsa Posición</th>\n",
       "      <td>[1.0, 4.0]</td>\n",
       "      <td>5</td>\n",
       "      <td>1.4096884628486834</td>\n",
       "      <td>-0.0000027768496631</td>\n",
       "    </tr>\n",
       "    <tr>\n",
       "      <th>Newton</th>\n",
       "      <td>3.5</td>\n",
       "      <td>5</td>\n",
       "      <td>1.4096887909626317</td>\n",
       "      <td>0.0000000005581029</td>\n",
       "    </tr>\n",
       "    <tr>\n",
       "      <th>Secante</th>\n",
       "      <td>3.45, 3.5</td>\n",
       "      <td>5</td>\n",
       "      <td>1.4096886522562191</td>\n",
       "      <td>-0.0000011735593715</td>\n",
       "    </tr>\n",
       "    <tr>\n",
       "      <th rowspan=\"4\" valign=\"top\">Función 3</th>\n",
       "      <th>Bisección</th>\n",
       "      <td>[2.0, 4.0]</td>\n",
       "      <td>18</td>\n",
       "      <td>2.8758030704516777</td>\n",
       "      <td>-0.0000211517116107</td>\n",
       "    </tr>\n",
       "    <tr>\n",
       "      <th>Falsa Posición</th>\n",
       "      <td>[2.0, 4.0]</td>\n",
       "      <td>10</td>\n",
       "      <td>2.8757975029828353</td>\n",
       "      <td>0.0000226209132261</td>\n",
       "    </tr>\n",
       "    <tr>\n",
       "      <th>Newton</th>\n",
       "      <td>4.0</td>\n",
       "      <td>4</td>\n",
       "      <td>2.8758003801572869</td>\n",
       "      <td>-0.0000000000144773</td>\n",
       "    </tr>\n",
       "    <tr>\n",
       "      <th>Secante</th>\n",
       "      <td>3.95, 4.0</td>\n",
       "      <td>5</td>\n",
       "      <td>2.8758003815241771</td>\n",
       "      <td>-0.0000000107612603</td>\n",
       "    </tr>\n",
       "  </tbody>\n",
       "</table>\n",
       "</div>"
      ],
      "text/plain": [
       "                         Intervalo o punto inicial  \\\n",
       "Función   Método                                     \n",
       "Función 1 Bisección                     [0.7, 0.9]   \n",
       "          Falsa Posición                [0.7, 0.9]   \n",
       "          Newton                               0.9   \n",
       "          Secante                        0.85, 0.9   \n",
       "Función 2 Bisección                     [1.0, 4.0]   \n",
       "          Falsa Posición                [1.0, 4.0]   \n",
       "          Newton                               3.5   \n",
       "          Secante                        3.45, 3.5   \n",
       "Función 3 Bisección                     [2.0, 4.0]   \n",
       "          Falsa Posición                [2.0, 4.0]   \n",
       "          Newton                               4.0   \n",
       "          Secante                        3.95, 4.0   \n",
       "\n",
       "                          Número total de iteraciones          Raíz $x_r$  \\\n",
       "Función   Método                                                            \n",
       "Función 1 Bisección                                15  0.7967956542968643   \n",
       "          Falsa Posición                            4  0.7967948315576083   \n",
       "          Newton                                    4  0.7967948029113932   \n",
       "          Secante                                   4  0.7967946551724332   \n",
       "Función 2 Bisección                                19  1.4096905515670328   \n",
       "          Falsa Posición                            5  1.4096884628486834   \n",
       "          Newton                                    5  1.4096887909626317   \n",
       "          Secante                                   5  1.4096886522562191   \n",
       "Función 3 Bisección                                18  2.8758030704516777   \n",
       "          Falsa Posición                           10  2.8757975029828353   \n",
       "          Newton                                    4  2.8758003801572869   \n",
       "          Secante                                   5  2.8758003815241771   \n",
       "\n",
       "                                    $f(x_r)$  \n",
       "Función   Método                              \n",
       "Función 1 Bisección      -0.0000087480834761  \n",
       "          Falsa Posición -0.0000000136534783  \n",
       "          Newton          0.0000002904629196  \n",
       "          Secante         0.0000018589020722  \n",
       "Función 2 Bisección       0.0000149036847388  \n",
       "          Falsa Posición -0.0000027768496631  \n",
       "          Newton          0.0000000005581029  \n",
       "          Secante        -0.0000011735593715  \n",
       "Función 3 Bisección      -0.0000211517116107  \n",
       "          Falsa Posición  0.0000226209132261  \n",
       "          Newton         -0.0000000000144773  \n",
       "          Secante        -0.0000000107612603  "
      ]
     },
     "execution_count": 19,
     "metadata": {},
     "output_type": "execute_result"
    }
   ],
   "source": [
    "tabla = result = pd.concat([df1, df2, df3])\n",
    "tabla"
   ]
  },
  {
   "cell_type": "markdown",
   "id": "81f60e93",
   "metadata": {},
   "source": [
    "Finalmente, guardo la tabla en un archivo de Excel:"
   ]
  },
  {
   "cell_type": "code",
   "execution_count": 20,
   "id": "9088f2ea",
   "metadata": {},
   "outputs": [],
   "source": [
    "tabla.to_excel('punto7_lab7_alvarezlopez_201729031.xlsx')"
   ]
  },
  {
   "cell_type": "markdown",
   "id": "15be78e0",
   "metadata": {},
   "source": [
    "## Punto 8\n",
    "Para estudiar la propagación de la luz a través de tejidos biológicos, se puede usar la siguiente fórmula empírica:\n",
    "$$\\frac{R-1}{R+1} = -1.440n_r^{-2} + 0.710n_r^{-1} + 0.688 + 0.0636n_r.$$\n",
    "Para esta laboratorio, se usará R=4. La función que se estudiará es:\n",
    "$$f(n_r,R) = -1.440n_r^{-2} + 0.710n_r^{-1} + 0.688 + 0.0636n_r - \\frac{R-1}{R+1}$$\n",
    "\n",
    "**a.** Diferente a las tres expresiones dadas en el enunciado para encontrar $n_r$, puede despejarse el término que va con $n_r^{-1}$. Usando el factor de reflectancia interna como R=4, se obtiene que:\n",
    "$$\\frac{4-1}{4+1} = 0.6 = -1.440n_r^{-2} + 0.710n_r^{-1} + 0.688 + 0.0636n_r. $$\n",
    "Despejando para el factor de 0.710n_r^{-1}, \n",
    "$$0.710n_r^{-1} = 0.6 + 1.440n_r^{-2} - 0.688 - 0.0636n_r,$$\n",
    "\n",
    "$$0.710n_r^{-1} = 1.440n_r^{-2} - 0.088 - 0.0636n_r,$$\n",
    "\n",
    "$$n_r^{-1} = \\frac{1}{0.710}\\left( 1.440n_r^{-2} - 0.088 - 0.0636n_r \\right),$$\n",
    "\n",
    "$$n_r = \\left[\\frac{1}{0.710}\\left( 1.440n_r^{-2} - 0.088 - 0.0636n_r \\right) \\right]^{-1},$$\n",
    "\n",
    "$$n_r = 0.710\\left( 1.440n_r^{-2} - 0.088 - 0.0636n_r \\right)^{-1}.$$\n",
    "Organizando los términos,\n",
    "$$n_r = 0.710\\left( 1.440n_r^{-2} - 0.0636n_r - 0.088 \\right)^{-1}.$$"
   ]
  },
  {
   "cell_type": "markdown",
   "id": "cba0752c",
   "metadata": {},
   "source": [
    "**b.** Para poder determinar el mejor intervalo para encontrar la solución, grafico la ecuación de propagación de la luz a través de tejidos biológicos."
   ]
  },
  {
   "cell_type": "code",
   "execution_count": 21,
   "id": "e52059f4",
   "metadata": {},
   "outputs": [],
   "source": [
    "def f(n_r, R=4):\n",
    "    return -1.440*(n_r**(-2)) + 0.710*(n_r**(-1)) + 0.688 + 0.0636*n_r - ((R-1)/(R+1))"
   ]
  },
  {
   "cell_type": "markdown",
   "id": "80b0ccbb",
   "metadata": {},
   "source": [
    "Ahora, defino los rangos para los cuales evaluaré la función:"
   ]
  },
  {
   "cell_type": "code",
   "execution_count": 22,
   "id": "c191285a",
   "metadata": {},
   "outputs": [],
   "source": [
    "n_r1 = np.arange(0.01, 1, 0.0001)\n",
    "n_r2 = np.arange(1, 1.5, 0.0001)\n",
    "n_r3 = np.arange(1.5, 2, 0.0001)\n",
    "n_r4 = np.arange(2, 2.5, 0.0001)\n",
    "n_r5 = np.arange(2.5, 3, 0.0001)"
   ]
  },
  {
   "cell_type": "markdown",
   "id": "fdb457a8",
   "metadata": {},
   "source": [
    "Es importante anotar que la función no está definida en 0. Por tanto, el primer  Por último, realizo 5 gráficas que me permitan evaluar cuál es el mejor rango:"
   ]
  },
  {
   "cell_type": "code",
   "execution_count": 23,
   "id": "ca896855",
   "metadata": {},
   "outputs": [
    {
     "data": {
      "image/png": "[encoded data removed]",
      "text/plain": [
       "<Figure size 1440x720 with 5 Axes>"
      ]
     },
     "metadata": {
      "needs_background": "light"
     },
     "output_type": "display_data"
    }
   ],
   "source": [
    "fig, ax = plt.subplots(1,5,figsize=(20,10))\n",
    "ax[0].plot(n_r1, f(n_r1), c='limegreen')\n",
    "ax[0].grid(1)\n",
    "ax[0].set_ylabel('y')\n",
    "ax[0].set_xlabel(r'$n_r$')\n",
    "ax[1].plot(n_r2, f(n_r2), c='turquoise')\n",
    "ax[1].grid(1)\n",
    "ax[1].set_xlabel(r'$n_r$')\n",
    "ax[2].plot(n_r3, f(n_r3), c='lightpink')\n",
    "ax[2].grid(1)\n",
    "ax[2].set_xlabel(r'$n_r$')\n",
    "ax[3].plot(n_r4, f(n_r4), c='violet')\n",
    "ax[3].grid(1)\n",
    "ax[3].set_xlabel(r'$n_r$')\n",
    "ax[4].plot(n_r5, f(n_r5), c='dodgerblue')\n",
    "ax[4].grid(1)\n",
    "ax[4].set_xlabel(r'$n_r$')\n",
    "fig.suptitle(r'Gráficas para $f(n_r, R=4)$ para distintos rangos de $n_r$.')\n",
    "plt.show()"
   ]
  },
  {
   "cell_type": "markdown",
   "id": "6b19d141",
   "metadata": {},
   "source": [
    "De las anteriores gráficas, es posible notar que el intervalo más adecuado para estudiar la función es el de la gráfica en turquesa (i.e. el intervalo b del enunciado, con $n_r \\in [1, 1.5]$), pues es en dicho intervalo donde la función cruza al eje x y donde se encuentra la raíz, que es lo que interesa en este caso.     "
   ]
  },
  {
   "cell_type": "markdown",
   "id": "57899fd9",
   "metadata": {},
   "source": [
    "**c.** Primero, me traigo el método del punto fijo del archivo de python que desarrollé para los 6 primeros puntos:"
   ]
  },
  {
   "cell_type": "code",
   "execution_count": 24,
   "id": "b46a6e3c",
   "metadata": {},
   "outputs": [],
   "source": [
    "''' Funcion que obtiene la raiz de una ecuacion no lineal de una variable usando el metodo del punto fijo.\n",
    "params: \n",
    "f: funcion no lineal a la cual se busca encontrar su raiz.\n",
    "g: funcion necesaria para realizar el metodo del punto fijo.\n",
    "x1: punto inicial.\n",
    "tol_x: tolerancia en x. \n",
    "tol_y: tolerancia en y. Por defecto, tol_x = tol_y = 10**-5.\n",
    "n_max: numero maximo de iteraciones que le permito al algoritmo. Por defecto, n_max=1000.\n",
    "retorna: \n",
    "num_iter: numero de iteraciones\n",
    "x2: raiz final calculada\n",
    "xr_iter: valor estimado de la raiz en cada iteracion'''\n",
    "def punto_fijo(f, g, x1, tol_x=10**-5, tol_y=10**-5, n_max=1000):\n",
    "    num_iter = 0 # Inicializo una variable con el numero de iteraciones\n",
    "    xr_iter = np.array([]) #Defino un arreglo para ir guardando los valores de las raices candidatas, obtenidas en cada iteracion\n",
    "    x2_prev = x1 # Creo una variable inicial para la raiz en la iteracion anterior\n",
    "    while 1: # Inicio un proceso iterativo\n",
    "        x2 = g(x1) # Se obtiene la raiz candidata\n",
    "        xr_iter = np.append(xr_iter, x2) # Aniado la raiz al arreglo\n",
    "        # Se evaluan los criterios de parada:\n",
    "        if np.abs(x2-x2_prev)<=tol_x: # Si la resta de las raiz anterior con la actual es menor que la tolerancia, termino el proceso\n",
    "            return num_iter, x2, xr_iter\n",
    "        if np.abs(f(x2))<=tol_y: # Si la funcion evaluada en la raiz actual es tan cercana a cero como la tolerancia lo pide, termino el proceso.\n",
    "            return num_iter, x2, xr_iter\n",
    "        # Reviso si las iteraciones que llevo estan por debajo del limite establecido.\n",
    "        if num_iter >= n_max:\n",
    "            print('Maximo numero de iteraciones')\n",
    "            return num_iter, x2, xr_iter\n",
    "        # Se actualiza el intervalo de acuerdo con la condicion\n",
    "        x1 = x2\n",
    "        # Se actualiza x2 antiguo con el actual para la siguiente iteracion\n",
    "        x2_prev = x2\n",
    "        num_iter += 1 # Se agrega una iteracion al numero total de iteraciones\n",
    "\n"
   ]
  },
  {
   "cell_type": "markdown",
   "id": "eb351765",
   "metadata": {},
   "source": [
    "Ahora, defino las tres funciones $g(x)$ que me dan en el enunciado:\n",
    "$$ g_1(n_r) = n_r = \\left[\\frac{1}{1.440}\\left( 0.710 n_r^{-1} + 0.0636n_r + 0.088 \\right) \\right]^{-\\frac{1}{2}}.$$\n",
    "\n",
    "$$g_2(n_r) = n_r = \\frac{1}{0.0636}\\left(1.440 n_r^{-2} - 0.710 n_r^{-1} - 0.088\\right).$$\n",
    "\n",
    "$$g_3(n_r) = n_r = 1.440n_r^{-2} - 0.710n_r^{-1} - 0.088 - 0.0636n_r + n_r.$$"
   ]
  },
  {
   "cell_type": "code",
   "execution_count": 25,
   "id": "b278d301",
   "metadata": {},
   "outputs": [],
   "source": [
    "def g1(n_r):\n",
    "    return ((1/1.440)*(0.710*(n_r**-1) + 0.0636*n_r + 0.088))**(-1/2)\n",
    "\n",
    "def g2(n_r):\n",
    "    return (1/0.0636)*(1.440*(n_r**-2) - 0.710*(n_r**(-1)) - 0.088)\n",
    "\n",
    "def g3(n_r):\n",
    "    return 1.440*(n_r**(-2)) - 0.710*(n_r**(-1)) - 0.088 - 0.0636*n_r + n_r"
   ]
  },
  {
   "cell_type": "code",
   "execution_count": 26,
   "id": "33e5db7d",
   "metadata": {},
   "outputs": [
    {
     "name": "stdout",
     "output_type": "stream",
     "text": [
      "Maximo numero de iteraciones\n"
     ]
    }
   ],
   "source": [
    "num_iter_pf_g1, x2_pf_g1, xr_iter_pf_g1 = punto_fijo(f, g1, x1=2)\n",
    "num_iter_pf_g2, x2_pf_g2, xr_iter_pf_g2 = punto_fijo(f, g2, x1=2)\n",
    "num_iter_pf_g3, x2_pf_g3, xr_iter_pf_g3 = punto_fijo(f, g3, x1=2)"
   ]
  },
  {
   "cell_type": "markdown",
   "id": "a091cc52",
   "metadata": {},
   "source": [
    "### Función $g_1(x)$:\n",
    "\n",
    "Calculo el valor de $|n_{r_i} - n_{r_{i-1}}|$: "
   ]
  },
  {
   "cell_type": "code",
   "execution_count": 27,
   "id": "b005b7b3",
   "metadata": {},
   "outputs": [],
   "source": [
    "resta_abs_g1 = [np.abs(xr_iter_pf_g1[i] - xr_iter_pf_g1[i-1]) for i in range(1,len(xr_iter_pf_g1)) ]"
   ]
  },
  {
   "cell_type": "markdown",
   "id": "90a50f56",
   "metadata": {},
   "source": [
    "Veamos cuántas iteraciones alcanzó la función:"
   ]
  },
  {
   "cell_type": "code",
   "execution_count": 28,
   "id": "81a01a4f",
   "metadata": {},
   "outputs": [
    {
     "name": "stdout",
     "output_type": "stream",
     "text": [
      "8\n"
     ]
    }
   ],
   "source": [
    "print(num_iter_pf_g1)"
   ]
  },
  {
   "cell_type": "markdown",
   "id": "65b6977f",
   "metadata": {},
   "source": [
    "Ahora, construyo la tabla. Algunos valores están remplazados por guiones pues la función convergió antes. En este caso, convergió para 9 iteraciones.Para la función $g_1(n_r)$:"
   ]
  },
  {
   "cell_type": "code",
   "execution_count": 29,
   "id": "8ac2ff7a",
   "metadata": {},
   "outputs": [],
   "source": [
    "data_g1 =  {'Iter': [0, 1, 5, 10, 13],\n",
    "            r'$n_r$': [xr_iter_pf_g1[0], xr_iter_pf_g1[1], xr_iter_pf_g1[5], '-', '-'], \n",
    "            r'$g_1(n_r)$': [g1(xr_iter_pf_g1[0]), g1(xr_iter_pf_g1[1]), g1(xr_iter_pf_g1[5]), '-', '-'],\n",
    "            r'$|n_{r_i} - n_{r_{i-1}}|$': ['-', resta_abs_g1[0], resta_abs_g1[4], '-', '-']}"
   ]
  },
  {
   "cell_type": "code",
   "execution_count": 30,
   "id": "79626c40",
   "metadata": {},
   "outputs": [
    {
     "data": {
      "text/html": [
       "<div>\n",
       "<style scoped>\n",
       "    .dataframe tbody tr th:only-of-type {\n",
       "        vertical-align: middle;\n",
       "    }\n",
       "\n",
       "    .dataframe tbody tr th {\n",
       "        vertical-align: top;\n",
       "    }\n",
       "\n",
       "    .dataframe thead th {\n",
       "        text-align: right;\n",
       "    }\n",
       "</style>\n",
       "<table border=\"1\" class=\"dataframe\">\n",
       "  <thead>\n",
       "    <tr style=\"text-align: right;\">\n",
       "      <th></th>\n",
       "      <th>Iter</th>\n",
       "      <th>$n_r$</th>\n",
       "      <th>$g_1(n_r)$</th>\n",
       "      <th>$|n_{r_i} - n_{r_{i-1}}|$</th>\n",
       "    </tr>\n",
       "  </thead>\n",
       "  <tbody>\n",
       "    <tr>\n",
       "      <th>0</th>\n",
       "      <td>0</td>\n",
       "      <td>1.58916005292062</td>\n",
       "      <td>1.5048900456558678</td>\n",
       "      <td>-</td>\n",
       "    </tr>\n",
       "    <tr>\n",
       "      <th>1</th>\n",
       "      <td>1</td>\n",
       "      <td>1.5048900456558678</td>\n",
       "      <td>1.4821522576819921</td>\n",
       "      <td>0.0842700072647522</td>\n",
       "    </tr>\n",
       "    <tr>\n",
       "      <th>2</th>\n",
       "      <td>5</td>\n",
       "      <td>1.4732047252731744</td>\n",
       "      <td>1.4730432936688913</td>\n",
       "      <td>0.000552103456483</td>\n",
       "    </tr>\n",
       "    <tr>\n",
       "      <th>3</th>\n",
       "      <td>10</td>\n",
       "      <td>-</td>\n",
       "      <td>-</td>\n",
       "      <td>-</td>\n",
       "    </tr>\n",
       "    <tr>\n",
       "      <th>4</th>\n",
       "      <td>13</td>\n",
       "      <td>-</td>\n",
       "      <td>-</td>\n",
       "      <td>-</td>\n",
       "    </tr>\n",
       "  </tbody>\n",
       "</table>\n",
       "</div>"
      ],
      "text/plain": [
       "   Iter               $n_r$          $g_1(n_r)$ $|n_{r_i} - n_{r_{i-1}}|$\n",
       "0     0    1.58916005292062  1.5048900456558678                         -\n",
       "1     1  1.5048900456558678  1.4821522576819921        0.0842700072647522\n",
       "2     5  1.4732047252731744  1.4730432936688913         0.000552103456483\n",
       "3    10                   -                   -                         -\n",
       "4    13                   -                   -                         -"
      ]
     },
     "execution_count": 30,
     "metadata": {},
     "output_type": "execute_result"
    }
   ],
   "source": [
    "dg1 = pd.DataFrame(data_g1)\n",
    "dg1"
   ]
  },
  {
   "cell_type": "markdown",
   "id": "ab2cb23e",
   "metadata": {},
   "source": [
    "### Función $g_2(x)$:\n",
    "Calculo el valor de $|n_{r_i} - n_{r_{i-1}}|$: "
   ]
  },
  {
   "cell_type": "code",
   "execution_count": 31,
   "id": "8b08ea8a",
   "metadata": {},
   "outputs": [],
   "source": [
    "resta_abs_g2 = [np.abs(xr_iter_pf_g2[i] - xr_iter_pf_g2[i-1]) for i in range(1,len(xr_iter_pf_g2)) ]"
   ]
  },
  {
   "cell_type": "markdown",
   "id": "775c9e47",
   "metadata": {},
   "source": [
    "Veamos cuántas iteraciones alcanzó la función:"
   ]
  },
  {
   "cell_type": "code",
   "execution_count": 32,
   "id": "de85a185",
   "metadata": {},
   "outputs": [
    {
     "name": "stdout",
     "output_type": "stream",
     "text": [
      "1000\n"
     ]
    }
   ],
   "source": [
    "print(num_iter_pf_g2)"
   ]
  },
  {
   "cell_type": "markdown",
   "id": "0e225832",
   "metadata": {},
   "source": [
    "Ahora, construyo la tabla. En este caso, todas las celdas están llenas porque la función nunca convergió. Para la función $g_2(n_r)$:"
   ]
  },
  {
   "cell_type": "code",
   "execution_count": 33,
   "id": "da0f7ec9",
   "metadata": {},
   "outputs": [],
   "source": [
    "data_g2 =  {'Iter': [0, 1, 5, 10, 13],\n",
    "            r'$n_r$': [xr_iter_pf_g2[0], xr_iter_pf_g2[1], xr_iter_pf_g2[5], xr_iter_pf_g2[10], xr_iter_pf_g2[13]], \n",
    "            r'$g_2(n_r)$': [g2(xr_iter_pf_g2[0]), g2(xr_iter_pf_g2[1]), g2(xr_iter_pf_g2[5]), g2(xr_iter_pf_g2[10]), g2(xr_iter_pf_g2[13])],\n",
    "            r'$|n_{r_i} - n_{r_{i-1}}|$': ['-', resta_abs_g2[0], resta_abs_g2[4], resta_abs_g2[9], resta_abs_g2[12]]}"
   ]
  },
  {
   "cell_type": "code",
   "execution_count": 34,
   "id": "4b881c90",
   "metadata": {},
   "outputs": [
    {
     "data": {
      "text/html": [
       "<div>\n",
       "<style scoped>\n",
       "    .dataframe tbody tr th:only-of-type {\n",
       "        vertical-align: middle;\n",
       "    }\n",
       "\n",
       "    .dataframe tbody tr th {\n",
       "        vertical-align: top;\n",
       "    }\n",
       "\n",
       "    .dataframe thead th {\n",
       "        text-align: right;\n",
       "    }\n",
       "</style>\n",
       "<table border=\"1\" class=\"dataframe\">\n",
       "  <thead>\n",
       "    <tr style=\"text-align: right;\">\n",
       "      <th></th>\n",
       "      <th>Iter</th>\n",
       "      <th>$n_r$</th>\n",
       "      <th>$g_2(n_r)$</th>\n",
       "      <th>$|n_{r_i} - n_{r_{i-1}}|$</th>\n",
       "    </tr>\n",
       "  </thead>\n",
       "  <tbody>\n",
       "    <tr>\n",
       "      <th>0</th>\n",
       "      <td>0</td>\n",
       "      <td>-1.3050314465408803</td>\n",
       "      <td>20.4648062584504871</td>\n",
       "      <td>-</td>\n",
       "    </tr>\n",
       "    <tr>\n",
       "      <th>1</th>\n",
       "      <td>1</td>\n",
       "      <td>20.4648062584504871</td>\n",
       "      <td>-1.8750845923212311</td>\n",
       "      <td>21.7698377049913674</td>\n",
       "    </tr>\n",
       "    <tr>\n",
       "      <th>2</th>\n",
       "      <td>5</td>\n",
       "      <td>8.2980832029732188</td>\n",
       "      <td>-2.4001475107771650</td>\n",
       "      <td>10.5089160896556031</td>\n",
       "    </tr>\n",
       "    <tr>\n",
       "      <th>3</th>\n",
       "      <td>10</td>\n",
       "      <td>-2.5439225861471790</td>\n",
       "      <td>6.5032892314570061</td>\n",
       "      <td>9.259675866354538</td>\n",
       "    </tr>\n",
       "    <tr>\n",
       "      <th>4</th>\n",
       "      <td>13</td>\n",
       "      <td>6.4104384630672868</td>\n",
       "      <td>-2.5741352971847835</td>\n",
       "      <td>8.9753307647710692</td>\n",
       "    </tr>\n",
       "  </tbody>\n",
       "</table>\n",
       "</div>"
      ],
      "text/plain": [
       "   Iter                $n_r$           $g_2(n_r)$ $|n_{r_i} - n_{r_{i-1}}|$\n",
       "0     0  -1.3050314465408803  20.4648062584504871                         -\n",
       "1     1  20.4648062584504871  -1.8750845923212311       21.7698377049913674\n",
       "2     5   8.2980832029732188  -2.4001475107771650       10.5089160896556031\n",
       "3    10  -2.5439225861471790   6.5032892314570061         9.259675866354538\n",
       "4    13   6.4104384630672868  -2.5741352971847835        8.9753307647710692"
      ]
     },
     "execution_count": 34,
     "metadata": {},
     "output_type": "execute_result"
    }
   ],
   "source": [
    "dg2 = pd.DataFrame(data_g2)\n",
    "dg2"
   ]
  },
  {
   "cell_type": "markdown",
   "id": "6195d892",
   "metadata": {},
   "source": [
    "Es fácil notar que nunca se convergió a un valor en particular, sino que los resultados oscilan bastante."
   ]
  },
  {
   "cell_type": "markdown",
   "id": "5d9e8527",
   "metadata": {},
   "source": [
    "### Función $g_3(x)$:\n",
    "Calculo el valor de $|n_{r_i} - n_{r_{i-1}}|$: "
   ]
  },
  {
   "cell_type": "code",
   "execution_count": 35,
   "id": "55fed95d",
   "metadata": {},
   "outputs": [],
   "source": [
    "resta_abs_g3 = [np.abs(xr_iter_pf_g3[i] - xr_iter_pf_g3[i-1]) for i in range(1,len(xr_iter_pf_g3)) ]"
   ]
  },
  {
   "cell_type": "markdown",
   "id": "16277f7f",
   "metadata": {},
   "source": [
    "Veamos cuántas iteraciones alcanzó la función:"
   ]
  },
  {
   "cell_type": "code",
   "execution_count": 36,
   "id": "21a78e32",
   "metadata": {},
   "outputs": [
    {
     "name": "stdout",
     "output_type": "stream",
     "text": [
      "11\n"
     ]
    }
   ],
   "source": [
    "print(num_iter_pf_g3)"
   ]
  },
  {
   "cell_type": "markdown",
   "id": "41d9e5e3",
   "metadata": {},
   "source": [
    "Ahora, construyo la tabla. En este caso, hay algunos guiones porque la función convergió para 11 iteraciones. Para la función $g_3(n_r)$:"
   ]
  },
  {
   "cell_type": "code",
   "execution_count": 37,
   "id": "e48a6fc9",
   "metadata": {},
   "outputs": [],
   "source": [
    "data_g3 =  {'Iter': [0, 1, 5, 10, 13],\n",
    "            r'$n_r$': [xr_iter_pf_g3[0], xr_iter_pf_g3[1], xr_iter_pf_g3[5], xr_iter_pf_g3[10], '-'], \n",
    "            r'$g_3(n_r)$': [g3(xr_iter_pf_g3[0]), g3(xr_iter_pf_g3[1]), g3(xr_iter_pf_g3[5]), g3(xr_iter_pf_g3[10]), '-'],\n",
    "            r'$|n_{r_i} - n_{r_{i-1}}|$': ['-', resta_abs_g3[0], resta_abs_g3[4], resta_abs_g3[9], '-']}"
   ]
  },
  {
   "cell_type": "code",
   "execution_count": 38,
   "id": "05528bdf",
   "metadata": {},
   "outputs": [
    {
     "data": {
      "text/html": [
       "<div>\n",
       "<style scoped>\n",
       "    .dataframe tbody tr th:only-of-type {\n",
       "        vertical-align: middle;\n",
       "    }\n",
       "\n",
       "    .dataframe tbody tr th {\n",
       "        vertical-align: top;\n",
       "    }\n",
       "\n",
       "    .dataframe thead th {\n",
       "        text-align: right;\n",
       "    }\n",
       "</style>\n",
       "<table border=\"1\" class=\"dataframe\">\n",
       "  <thead>\n",
       "    <tr style=\"text-align: right;\">\n",
       "      <th></th>\n",
       "      <th>Iter</th>\n",
       "      <th>$n_r$</th>\n",
       "      <th>$g_3(n_r)$</th>\n",
       "      <th>$|n_{r_i} - n_{r_{i-1}}|$</th>\n",
       "    </tr>\n",
       "  </thead>\n",
       "  <tbody>\n",
       "    <tr>\n",
       "      <th>0</th>\n",
       "      <td>0</td>\n",
       "      <td>1.7898000000000001</td>\n",
       "      <td>1.6408009742307477</td>\n",
       "      <td>-</td>\n",
       "    </tr>\n",
       "    <tr>\n",
       "      <th>1</th>\n",
       "      <td>1</td>\n",
       "      <td>1.6408009742307477</td>\n",
       "      <td>1.5506035482542426</td>\n",
       "      <td>0.1489990257692524</td>\n",
       "    </tr>\n",
       "    <tr>\n",
       "      <th>2</th>\n",
       "      <td>5</td>\n",
       "      <td>1.4775399010620938</td>\n",
       "      <td>1.4746450634097985</td>\n",
       "      <td>0.0077391491015208</td>\n",
       "    </tr>\n",
       "    <tr>\n",
       "      <th>3</th>\n",
       "      <td>10</td>\n",
       "      <td>1.4730054928539198</td>\n",
       "      <td>1.4729870400578997</td>\n",
       "      <td>0.0000508973169331</td>\n",
       "    </tr>\n",
       "    <tr>\n",
       "      <th>4</th>\n",
       "      <td>13</td>\n",
       "      <td>-</td>\n",
       "      <td>-</td>\n",
       "      <td>-</td>\n",
       "    </tr>\n",
       "  </tbody>\n",
       "</table>\n",
       "</div>"
      ],
      "text/plain": [
       "   Iter               $n_r$          $g_3(n_r)$ $|n_{r_i} - n_{r_{i-1}}|$\n",
       "0     0  1.7898000000000001  1.6408009742307477                         -\n",
       "1     1  1.6408009742307477  1.5506035482542426        0.1489990257692524\n",
       "2     5  1.4775399010620938  1.4746450634097985        0.0077391491015208\n",
       "3    10  1.4730054928539198  1.4729870400578997        0.0000508973169331\n",
       "4    13                   -                   -                         -"
      ]
     },
     "execution_count": 38,
     "metadata": {},
     "output_type": "execute_result"
    }
   ],
   "source": [
    "dg3 = pd.DataFrame(data_g3)\n",
    "dg3"
   ]
  },
  {
   "cell_type": "markdown",
   "id": "e1eb54d9",
   "metadata": {},
   "source": [
    "## Punto 9"
   ]
  },
  {
   "cell_type": "markdown",
   "id": "4aa7aee6",
   "metadata": {},
   "source": [
    "**a)** Para solucionar el sistema usando el método de Newton, se necesitan varias expresiones. Primero, tomo la ecuación 1 y la pongo en la forma $f(n_r) = 0.$ De esta forma, con $R=4$, se obtiene:\n",
    "\n",
    "$$f(n_r,R) = -1.440n_r^{-2} + 0.710n_r^{-1} + 0.688 + 0.0636n_r - \\frac{R-1}{R+1},$$\n",
    "$$f(n_r) = -1.440n_r^{-2} + 0.710n_r^{-1} + 0.688 + 0.0636n_r - \\frac{4-1}{4+1},$$\n",
    "$$f(n_r) = -1.440n_r^{-2} + 0.710n_r^{-1} + 0.688 + 0.0636n_r - \\frac{3}{5},$$\n",
    "$$f(n_r) = -1.440n_r^{-2} + 0.710n_r^{-1} + 0.0636n_r + 0.088.  $$"
   ]
  },
  {
   "cell_type": "markdown",
   "id": "bc7334e4",
   "metadata": {},
   "source": [
    "Asimismo, se necesita la derivada de la función, $f'(n_r)$:\n",
    "$$f'(n_r) = 2.880n_r^{-3} - 0.710n_r^{-2} + 0.0636.$$"
   ]
  },
  {
   "cell_type": "markdown",
   "id": "cdb69682",
   "metadata": {},
   "source": [
    "Con estas expresiones, se obtiene una raíz candidata $n_{r_2}$ en la $i-$ésima iteración dada por:\n",
    "$$n_{r_2}^i = n_{r_1} - \\frac{f(n_{r_1})}{f'(n_{r_1})}.$$\n",
    "En este caso, $n_{r_1} = 2.$ Entonces, para la primera iteración, \n",
    "$$n_{r_2}^i = 2 - \\frac{-1.440(2)^{-2} + 0.710(2)^{-1} + 0.0636(2) + 0.088}{2.880(2)^{-3} - 0.710(2)^{-2} + 0.0636} = 1.1458756603. $$\n",
    "\n",
    "Una vez calculada esta expresión, se evalúa si $|n_{r_2}^i - n_{r_2}^{i-1}| \\leq \\mathrm{Tol_x}$ o si $|f(n_{r_2}^i)| \\leq \\mathrm{Tol_y}$, donde Tol_x y Tol_y son las tolerancias en x, y de la función, respectivamente. Si se cumplen las desigualdades, el algoritmo deja de iterar. En caso contrario, se actualiza_\n",
    "$n_{r_1} = n_{r_2}.$ Es decir, en este caso, el nuevo $n_{r_1} = 1.1458756603.$ Asimismo, se actualiza el valor de $n_{r_2}$ que se tenía actualizado de la iteración anterior con el nuevo. En este caso, como es la primera iteración, simplemente se cambia del valor original (que, en este caso, se inicializa en $n_{r_1}$ también."
   ]
  },
  {
   "cell_type": "markdown",
   "id": "60e54de9",
   "metadata": {},
   "source": [
    "**b).** Ahora, utilizo el método de Newton que previamente había definido. Primero defino la función en términos de numpy. Luego, la creo en términos de sympy y, finalmente, llamo al método."
   ]
  },
  {
   "cell_type": "code",
   "execution_count": 39,
   "id": "9374b783",
   "metadata": {},
   "outputs": [],
   "source": [
    "def f(n_r):\n",
    "    return -1.440/(n_r**2) + 0.710/n_r + 0.0636*n_r + 0.088"
   ]
  },
  {
   "cell_type": "code",
   "execution_count": 40,
   "id": "629de388",
   "metadata": {},
   "outputs": [
    {
     "data": {
      "text/latex": [
       "$\\displaystyle 0.0636 x + 0.088 + \\frac{0.71}{x} - \\frac{1.44}{x^{2}}$"
      ],
      "text/plain": [
       "0.0636*x + 0.088 + 0.71/x - 1.44/x**2"
      ]
     },
     "execution_count": 40,
     "metadata": {},
     "output_type": "execute_result"
    }
   ],
   "source": [
    "# 3. Newton\n",
    "# 3.1. Defino la funcion f1 usando sympy\n",
    "f_sympy = -1.440*(Symbol('x')**(-2)) + 0.710*(Symbol('x')**(-1)) + 0.0636*Symbol('x') + 0.088\n",
    "f_sympy"
   ]
  },
  {
   "cell_type": "code",
   "execution_count": 41,
   "id": "04366e50",
   "metadata": {},
   "outputs": [],
   "source": [
    "# 3.2. Llamo al metodo\n",
    "num_iter_newton_f, x2_newton_f, xr_iter_newton_f = newton(f, f_sympy, x1=2, tol_x=10**(-10), tol_y=10**(-10))"
   ]
  },
  {
   "cell_type": "markdown",
   "id": "2133d8b7",
   "metadata": {},
   "source": [
    "Calculo el valor de $|n_{r_i} - n_{r_{i-1}}|$: "
   ]
  },
  {
   "cell_type": "code",
   "execution_count": 42,
   "id": "6f3ab9df",
   "metadata": {},
   "outputs": [],
   "source": [
    "resta_abs_newton = [np.abs(xr_iter_newton_f[i] - xr_iter_newton_f[i-1]) for i in range(1,len(xr_iter_newton_f)) ]"
   ]
  },
  {
   "cell_type": "markdown",
   "id": "680ee343",
   "metadata": {},
   "source": [
    "Veamos cuántas iteraciones alcanzó la función:"
   ]
  },
  {
   "cell_type": "code",
   "execution_count": 43,
   "id": "cdd070a6",
   "metadata": {},
   "outputs": [
    {
     "name": "stdout",
     "output_type": "stream",
     "text": [
      "6\n"
     ]
    }
   ],
   "source": [
    "print(num_iter_newton_f)"
   ]
  },
  {
   "cell_type": "markdown",
   "id": "fad261c9",
   "metadata": {},
   "source": [
    "Ahora, construyo la tabla. En este caso, la función convergió para 6 iteraciones entonces hay algunas celdas vacías. Incluyo datos hasta la cuarta iteración. Para la función $f(n_r)$:"
   ]
  },
  {
   "cell_type": "code",
   "execution_count": 44,
   "id": "e5c21098",
   "metadata": {},
   "outputs": [],
   "source": [
    "data_newton =  {'Iter': [0, 1, 5, 10, 13],\n",
    "            r'$n_r$': [xr_iter_newton_f[0], xr_iter_newton_f[1], xr_iter_newton_f[5], '-', '-'], \n",
    "            r'$f(n_r)$': [f(xr_iter_newton_f[0]), f(xr_iter_newton_f[1]), f(xr_iter_newton_f[5]), '-', '-'],\n",
    "            r'$|n_{r_i} - n_{r_{i-1}}|$': ['-', resta_abs_newton[0], resta_abs_newton[4], '-', '-']}"
   ]
  },
  {
   "cell_type": "code",
   "execution_count": 45,
   "id": "cd315376",
   "metadata": {},
   "outputs": [
    {
     "data": {
      "text/html": [
       "<div>\n",
       "<style scoped>\n",
       "    .dataframe tbody tr th:only-of-type {\n",
       "        vertical-align: middle;\n",
       "    }\n",
       "\n",
       "    .dataframe tbody tr th {\n",
       "        vertical-align: top;\n",
       "    }\n",
       "\n",
       "    .dataframe thead th {\n",
       "        text-align: right;\n",
       "    }\n",
       "</style>\n",
       "<table border=\"1\" class=\"dataframe\">\n",
       "  <thead>\n",
       "    <tr style=\"text-align: right;\">\n",
       "      <th></th>\n",
       "      <th>Iter</th>\n",
       "      <th>$n_r$</th>\n",
       "      <th>$f(n_r)$</th>\n",
       "      <th>$|n_{r_i} - n_{r_{i-1}}|$</th>\n",
       "    </tr>\n",
       "  </thead>\n",
       "  <tbody>\n",
       "    <tr>\n",
       "      <th>0</th>\n",
       "      <td>0</td>\n",
       "      <td>1.1458756603006908</td>\n",
       "      <td>-0.3162079727098708</td>\n",
       "      <td>-</td>\n",
       "    </tr>\n",
       "    <tr>\n",
       "      <th>1</th>\n",
       "      <td>1</td>\n",
       "      <td>1.3659177273747134</td>\n",
       "      <td>-0.0771459318514418</td>\n",
       "      <td>0.2200420670740226</td>\n",
       "    </tr>\n",
       "    <tr>\n",
       "      <th>2</th>\n",
       "      <td>5</td>\n",
       "      <td>1.4729765475659129</td>\n",
       "      <td>-0.0000000000000007</td>\n",
       "      <td>0.0000000284826094</td>\n",
       "    </tr>\n",
       "    <tr>\n",
       "      <th>3</th>\n",
       "      <td>10</td>\n",
       "      <td>-</td>\n",
       "      <td>-</td>\n",
       "      <td>-</td>\n",
       "    </tr>\n",
       "    <tr>\n",
       "      <th>4</th>\n",
       "      <td>13</td>\n",
       "      <td>-</td>\n",
       "      <td>-</td>\n",
       "      <td>-</td>\n",
       "    </tr>\n",
       "  </tbody>\n",
       "</table>\n",
       "</div>"
      ],
      "text/plain": [
       "   Iter               $n_r$            $f(n_r)$ $|n_{r_i} - n_{r_{i-1}}|$\n",
       "0     0  1.1458756603006908 -0.3162079727098708                         -\n",
       "1     1  1.3659177273747134 -0.0771459318514418        0.2200420670740226\n",
       "2     5  1.4729765475659129 -0.0000000000000007        0.0000000284826094\n",
       "3    10                   -                   -                         -\n",
       "4    13                   -                   -                         -"
      ]
     },
     "execution_count": 45,
     "metadata": {},
     "output_type": "execute_result"
    }
   ],
   "source": [
    "dn = pd.DataFrame(data_newton)\n",
    "dn"
   ]
  },
  {
   "cell_type": "markdown",
   "id": "0bdfeb96",
   "metadata": {},
   "source": [
    "Es posible ver que el método de Newton es una excelente alternativa pues, incluso exigiendo mejores tolerancias (en este caso, del orden de $10^{-10}$), el método converge en 6 iteraciones. Por otro lado, usando el método del punto fijo, y con una tolerancia menor (del orden de $10^{-5}$), el método no converge en algunas ocasiones; y, en otras, tarda lo mismo o más que el de Newton. "
   ]
  },
  {
   "cell_type": "markdown",
   "id": "cd37095e",
   "metadata": {},
   "source": [
    "**c.** Ahora, es de interés encontrar la tasa de convergencia para el método de Newton. Primero, uso la función que definí en el archivo de <code>python</code>:"
   ]
  },
  {
   "cell_type": "code",
   "execution_count": 46,
   "id": "00c5227d",
   "metadata": {},
   "outputs": [],
   "source": [
    "'''Metodo que calcula la tasa de convergencia para un metodo de encontrar raices en particular a partir de un arreglo con los \n",
    "valores calculados en las iteraciones. Se usa el metodo visto en clase.\n",
    "params:\n",
    "x_r: El arreglo con las raices calculadas en las iteraciones.\n",
    "f: Funcion a la cual se busca encontrar la raiz.\n",
    "x1: Un punto inicial para encontrar la raiz, usando el metodo de scipy. \n",
    "retorna:\n",
    "r_array: Un arreglo con las tasas de convergencia calculdas.'''\n",
    "def tasa_convergencia(x_r, f, x1):\n",
    "    # Estimamos el valor \"verdadero\" de la raíz a través de la función fsolve de scipy.\n",
    "    xroot_true = opt.fsolve(f, x1)\n",
    "    # Encuentro la estimacion del error para cada iteracion\n",
    "    eps_array = np.abs(x_r - xroot_true)\n",
    "    # Encuentro una estimacion de la tasa de convergencia para cada iteracion\n",
    "    r_array = []\n",
    "    r_array = ((np.log10(eps_array[1: np.size(eps_array)-1] / \n",
    "                     eps_array[2:np.size(eps_array)])) /\n",
    "           (np.log10(eps_array[0: np.size(eps_array)-2] /\n",
    "                     eps_array[1:np.size(eps_array)-1])))\n",
    "    return r_array"
   ]
  },
  {
   "cell_type": "markdown",
   "id": "fa95b3e7",
   "metadata": {},
   "source": [
    "Llamo al método:"
   ]
  },
  {
   "cell_type": "code",
   "execution_count": 47,
   "id": "6035dadb",
   "metadata": {},
   "outputs": [],
   "source": [
    "r_array_newton = tasa_convergencia(xr_iter_newton_f, f, x1=2)"
   ]
  },
  {
   "cell_type": "markdown",
   "id": "2275c3c4",
   "metadata": {},
   "source": [
    "Grafico:"
   ]
  },
  {
   "cell_type": "code",
   "execution_count": 48,
   "id": "c136add7",
   "metadata": {},
   "outputs": [
    {
     "data": {
      "image/png": "[encoded data removed]",
      "text/plain": [
       "<Figure size 432x288 with 1 Axes>"
      ]
     },
     "metadata": {
      "needs_background": "light"
     },
     "output_type": "display_data"
    }
   ],
   "source": [
    "# Grafico el valor de la tasa de convergencia para cada iteracion\n",
    "iter_array = np.arange(1.0, np.size(r_array_newton)+1)\n",
    "plt.figure()\n",
    "plt.plot(iter_array, r_array_newton)\n",
    "plt.plot(iter_array, r_array_newton, 'or')\n",
    "plt.xlabel('Iteracion')\n",
    "plt.ylabel('Tasa de convergencia estimada')\n",
    "plt.title('Metodo de Newton')\n",
    "plt.show()"
   ]
  },
  {
   "cell_type": "markdown",
   "id": "e438e265",
   "metadata": {},
   "source": [
    "Dadas el valor de la tasa de convergencia estimada, es posible notar que, como se vio en la clase, esta se encuentra **alrededor de 2 para el método de Newton**."
   ]
  },
  {
   "cell_type": "code",
   "execution_count": null,
   "id": "0b97e17a",
   "metadata": {},
   "outputs": [],
   "source": []
  }
 ],
 "metadata": {
  "kernelspec": {
   "display_name": "Python 3 (ipykernel)",
   "language": "python",
   "name": "python3"
  },
  "language_info": {
   "codemirror_mode": {
    "name": "ipython",
    "version": 3
   },
   "file_extension": ".py",
   "mimetype": "text/x-python",
   "name": "python",
   "nbconvert_exporter": "python",
   "pygments_lexer": "ipython3",
   "version": "3.9.12"
  }
 },
 "nbformat": 4,
 "nbformat_minor": 5
}
